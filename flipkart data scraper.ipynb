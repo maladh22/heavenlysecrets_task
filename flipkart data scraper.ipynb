{
 "cells": [
  {
   "cell_type": "code",
   "execution_count": 3,
   "id": "6f3651a5-a390-46fc-bfdf-8729c06ac195",
   "metadata": {},
   "outputs": [
    {
     "data": {
      "text/html": [
       "<div>\n",
       "<style scoped>\n",
       "    .dataframe tbody tr th:only-of-type {\n",
       "        vertical-align: middle;\n",
       "    }\n",
       "\n",
       "    .dataframe tbody tr th {\n",
       "        vertical-align: top;\n",
       "    }\n",
       "\n",
       "    .dataframe thead th {\n",
       "        text-align: right;\n",
       "    }\n",
       "</style>\n",
       "<table border=\"1\" class=\"dataframe\">\n",
       "  <thead>\n",
       "    <tr style=\"text-align: right;\">\n",
       "      <th></th>\n",
       "      <th>Title</th>\n",
       "      <th>Price</th>\n",
       "      <th>Rating</th>\n",
       "      <th>URL</th>\n",
       "      <th>Description</th>\n",
       "    </tr>\n",
       "  </thead>\n",
       "  <tbody>\n",
       "  </tbody>\n",
       "</table>\n",
       "</div>"
      ],
      "text/plain": [
       "Empty DataFrame\n",
       "Columns: [Title, Price, Rating, URL, Description]\n",
       "Index: []"
      ]
     },
     "metadata": {},
     "output_type": "display_data"
    }
   ],
   "source": [
    "import requests\n",
    "from bs4 import BeautifulSoup\n",
    "import csv\n",
    "\n",
    "def scrape_flipkart():\n",
    "    url = \"https://www.flipkart.com/\"\n",
    "    headers = {\"User-Agent\": \"Mozilla/5.0\"}\n",
    "    response = requests.get(url, headers=headers)\n",
    "    soup = BeautifulSoup(response.content, \"html.parser\")\n",
    "\n",
    "    products = soup.find_all(\"div\", class_=\"_2kHMtA\")\n",
    "\n",
    "    data = []\n",
    "    for product in products:\n",
    "        title = product.find(\"div\", class_=\"_4rR01T\").text\n",
    "        price = product.find(\"div\", class_=\"_30jeq3 _1_WHN1\").text\n",
    "        rating = product.find(\"div\", class_=\"_3LWZlK\").text\n",
    "        url = \"https://www.flipkart.com\" + product.find(\"a\")[\"href\"]\n",
    "        description = product.find(\"div\", class_=\"_2VB2w3\").text\n",
    "\n",
    "        data.append([title, price, rating, url, description])\n",
    "\n",
    "    return data\n",
    "\n",
    "data = scrape_flipkart()\n",
    "\n",
    "# Display the scraped data in Jupyter Notebook\n",
    "from IPython.display import display, HTML\n",
    "import pandas as pd\n",
    "\n",
    "df = pd.DataFrame(data, columns=[\"Title\", \"Price\", \"Rating\", \"URL\", \"Description\"])\n",
    "display(df)\n",
    "\n",
    "# Save the scraped data to a CSV file\n",
    "df.to_csv(\"scraped_data.csv\", index=False)"
   ]
  },
  {
   "cell_type": "code",
   "execution_count": null,
   "id": "6ea3f080-d4b4-4c5a-a2a5-7cf2d31e923e",
   "metadata": {},
   "outputs": [],
   "source": []
  }
 ],
 "metadata": {
  "kernelspec": {
   "display_name": "Python 3 (ipykernel)",
   "language": "python",
   "name": "python3"
  },
  "language_info": {
   "codemirror_mode": {
    "name": "ipython",
    "version": 3
   },
   "file_extension": ".py",
   "mimetype": "text/x-python",
   "name": "python",
   "nbconvert_exporter": "python",
   "pygments_lexer": "ipython3",
   "version": "3.11.7"
  }
 },
 "nbformat": 4,
 "nbformat_minor": 5
}
